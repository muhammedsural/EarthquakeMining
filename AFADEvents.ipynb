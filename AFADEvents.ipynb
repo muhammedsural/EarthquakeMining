{
 "cells": [
  {
   "cell_type": "code",
   "execution_count": null,
   "metadata": {},
   "outputs": [],
   "source": [
    "from SeisEventsFunctions import *"
   ]
  },
  {
   "cell_type": "code",
   "execution_count": null,
   "metadata": {},
   "outputs": [],
   "source": [
    "from obspy import UTCDateTime\n",
    "start_time  = UTCDateTime.now() - 6*24*3600 #1 day ago\n",
    "end_time    = UTCDateTime.now()\n",
    "recFilter   = RectangularFilter(minLat=39,maxLat=41,minLon=32,maxLon=34)\n",
    "radFilter   = RadialFilter(Lat=33,Lon=40,maxRad=100_000,minRad=50_000)\n",
    "depthFilter = DepthFilter(MinDepth=1,MaxDepth=8)\n",
    "mgFilter    = MagnitudeFilter('mb',7,1)\n",
    "\n",
    "# df          = GetFDSNEventsLastTwoDays()\n",
    "# print(df)\n",
    "# events = GetUSGSEvents(Geom=recFilter)\n",
    "# eventData = GetUSGSEvents()\n",
    "# df_USGS = USGS_EventsDataToDataFrame(eventData)\n"
   ]
  },
  {
   "cell_type": "code",
   "execution_count": null,
   "metadata": {},
   "outputs": [],
   "source": [
    "Data = GetAfadEvents(StartTime=start_time, EndTime=end_time,FormatType='GEOJSON')\n",
    "Data"
   ]
  },
  {
   "cell_type": "code",
   "execution_count": null,
   "metadata": {},
   "outputs": [],
   "source": [
    "df_TwoDaysAfad = AfadEventsToDataFrame(Data)\n",
    "df_TwoDaysAfad"
   ]
  },
  {
   "cell_type": "code",
   "execution_count": null,
   "metadata": {},
   "outputs": [],
   "source": [
    "event = GetAfadEventsByEventId(EventId=df_TwoDaysAfad['EventId'][0])\n",
    "event"
   ]
  },
  {
   "cell_type": "code",
   "execution_count": null,
   "metadata": {},
   "outputs": [],
   "source": []
  }
 ],
 "metadata": {
  "kernelspec": {
   "display_name": "Python 3",
   "language": "python",
   "name": "python3"
  },
  "language_info": {
   "codemirror_mode": {
    "name": "ipython",
    "version": 3
   },
   "file_extension": ".py",
   "mimetype": "text/x-python",
   "name": "python",
   "nbconvert_exporter": "python",
   "pygments_lexer": "ipython3",
   "version": "3.12.9"
  }
 },
 "nbformat": 4,
 "nbformat_minor": 2
}
